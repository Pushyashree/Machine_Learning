{
 "cells": [
  {
   "cell_type": "markdown",
   "id": "e02ad569",
   "metadata": {},
   "source": [
    "## Problem 3\n",
    "\n",
    "Submitted by: \n",
    "\n",
    "Name: Pushya Shree Konasale Jayaramu\n",
    "\n",
    "Matriculation no: 03776652"
   ]
  },
  {
   "cell_type": "markdown",
   "id": "7ec69944",
   "metadata": {},
   "source": [
    "## 3.1 Preprocess and Splitting of Data"
   ]
  },
  {
   "cell_type": "code",
   "execution_count": 1,
   "id": "c022a657",
   "metadata": {},
   "outputs": [],
   "source": [
    "import pandas as pd\n",
    "from sklearn.model_selection import train_test_split\n",
    "from sklearn.preprocessing import StandardScaler\n",
    "import matplotlib.pyplot as plt\n",
    "import seaborn as sns\n",
    "from sklearn.linear_model import LinearRegression\n",
    "from sklearn.ensemble import RandomForestRegressor, GradientBoostingRegressor\n",
    "from sklearn.metrics import mean_squared_error\n",
    "import numpy as np"
   ]
  },
  {
   "cell_type": "code",
   "execution_count": 6,
   "id": "8f02e84d",
   "metadata": {},
   "outputs": [
    {
     "data": {
      "text/html": [
       "<div>\n",
       "<style scoped>\n",
       "    .dataframe tbody tr th:only-of-type {\n",
       "        vertical-align: middle;\n",
       "    }\n",
       "\n",
       "    .dataframe tbody tr th {\n",
       "        vertical-align: top;\n",
       "    }\n",
       "\n",
       "    .dataframe thead th {\n",
       "        text-align: right;\n",
       "    }\n",
       "</style>\n",
       "<table border=\"1\" class=\"dataframe\">\n",
       "  <thead>\n",
       "    <tr style=\"text-align: right;\">\n",
       "      <th></th>\n",
       "      <th>instant</th>\n",
       "      <th>dteday</th>\n",
       "      <th>season</th>\n",
       "      <th>yr</th>\n",
       "      <th>mnth</th>\n",
       "      <th>hr</th>\n",
       "      <th>holiday</th>\n",
       "      <th>weekday</th>\n",
       "      <th>workingday</th>\n",
       "      <th>weathersit</th>\n",
       "      <th>temp</th>\n",
       "      <th>atemp</th>\n",
       "      <th>hum</th>\n",
       "      <th>windspeed</th>\n",
       "      <th>casual</th>\n",
       "      <th>registered</th>\n",
       "      <th>cnt</th>\n",
       "    </tr>\n",
       "  </thead>\n",
       "  <tbody>\n",
       "    <tr>\n",
       "      <th>0</th>\n",
       "      <td>1</td>\n",
       "      <td>2011-01-01</td>\n",
       "      <td>1</td>\n",
       "      <td>0</td>\n",
       "      <td>1</td>\n",
       "      <td>0</td>\n",
       "      <td>0</td>\n",
       "      <td>6</td>\n",
       "      <td>0</td>\n",
       "      <td>1</td>\n",
       "      <td>0.24</td>\n",
       "      <td>0.2879</td>\n",
       "      <td>0.81</td>\n",
       "      <td>0.0</td>\n",
       "      <td>3</td>\n",
       "      <td>13</td>\n",
       "      <td>16</td>\n",
       "    </tr>\n",
       "    <tr>\n",
       "      <th>1</th>\n",
       "      <td>2</td>\n",
       "      <td>2011-01-01</td>\n",
       "      <td>1</td>\n",
       "      <td>0</td>\n",
       "      <td>1</td>\n",
       "      <td>1</td>\n",
       "      <td>0</td>\n",
       "      <td>6</td>\n",
       "      <td>0</td>\n",
       "      <td>1</td>\n",
       "      <td>0.22</td>\n",
       "      <td>0.2727</td>\n",
       "      <td>0.80</td>\n",
       "      <td>0.0</td>\n",
       "      <td>8</td>\n",
       "      <td>32</td>\n",
       "      <td>40</td>\n",
       "    </tr>\n",
       "    <tr>\n",
       "      <th>2</th>\n",
       "      <td>3</td>\n",
       "      <td>2011-01-01</td>\n",
       "      <td>1</td>\n",
       "      <td>0</td>\n",
       "      <td>1</td>\n",
       "      <td>2</td>\n",
       "      <td>0</td>\n",
       "      <td>6</td>\n",
       "      <td>0</td>\n",
       "      <td>1</td>\n",
       "      <td>0.22</td>\n",
       "      <td>0.2727</td>\n",
       "      <td>0.80</td>\n",
       "      <td>0.0</td>\n",
       "      <td>5</td>\n",
       "      <td>27</td>\n",
       "      <td>32</td>\n",
       "    </tr>\n",
       "    <tr>\n",
       "      <th>3</th>\n",
       "      <td>4</td>\n",
       "      <td>2011-01-01</td>\n",
       "      <td>1</td>\n",
       "      <td>0</td>\n",
       "      <td>1</td>\n",
       "      <td>3</td>\n",
       "      <td>0</td>\n",
       "      <td>6</td>\n",
       "      <td>0</td>\n",
       "      <td>1</td>\n",
       "      <td>0.24</td>\n",
       "      <td>0.2879</td>\n",
       "      <td>0.75</td>\n",
       "      <td>0.0</td>\n",
       "      <td>3</td>\n",
       "      <td>10</td>\n",
       "      <td>13</td>\n",
       "    </tr>\n",
       "    <tr>\n",
       "      <th>4</th>\n",
       "      <td>5</td>\n",
       "      <td>2011-01-01</td>\n",
       "      <td>1</td>\n",
       "      <td>0</td>\n",
       "      <td>1</td>\n",
       "      <td>4</td>\n",
       "      <td>0</td>\n",
       "      <td>6</td>\n",
       "      <td>0</td>\n",
       "      <td>1</td>\n",
       "      <td>0.24</td>\n",
       "      <td>0.2879</td>\n",
       "      <td>0.75</td>\n",
       "      <td>0.0</td>\n",
       "      <td>0</td>\n",
       "      <td>1</td>\n",
       "      <td>1</td>\n",
       "    </tr>\n",
       "  </tbody>\n",
       "</table>\n",
       "</div>"
      ],
      "text/plain": [
       "   instant      dteday  season  yr  mnth  hr  holiday  weekday  workingday  \\\n",
       "0        1  2011-01-01       1   0     1   0        0        6           0   \n",
       "1        2  2011-01-01       1   0     1   1        0        6           0   \n",
       "2        3  2011-01-01       1   0     1   2        0        6           0   \n",
       "3        4  2011-01-01       1   0     1   3        0        6           0   \n",
       "4        5  2011-01-01       1   0     1   4        0        6           0   \n",
       "\n",
       "   weathersit  temp   atemp   hum  windspeed  casual  registered  cnt  \n",
       "0           1  0.24  0.2879  0.81        0.0       3          13   16  \n",
       "1           1  0.22  0.2727  0.80        0.0       8          32   40  \n",
       "2           1  0.22  0.2727  0.80        0.0       5          27   32  \n",
       "3           1  0.24  0.2879  0.75        0.0       3          10   13  \n",
       "4           1  0.24  0.2879  0.75        0.0       0           1    1  "
      ]
     },
     "execution_count": 6,
     "metadata": {},
     "output_type": "execute_result"
    }
   ],
   "source": [
    "data = pd.read_csv(r\"C:\\Users\\User15\\OneDrive\\Desktop\\Data Analysis\\bike.csv\")\n",
    "data.head()\n",
    "#data.isnull()"
   ]
  },
  {
   "cell_type": "code",
   "execution_count": 8,
   "id": "dcd6f203",
   "metadata": {},
   "outputs": [],
   "source": [
    "#Data Processing\n",
    "\n",
    "#Standardising the numerical variables\n",
    "numeric_variables = ['temp', 'atemp', 'hum', 'windspeed']\n",
    "scaler = StandardScaler()\n",
    "data[numeric_variables] = scaler.fit_transform(data[numeric_variables])\n",
    "\n",
    "#Categorical variables transformation to dummy\n",
    "categorical_variables = ['season', 'yr', 'mnth', 'hr', 'holiday', 'weekday', 'weathersit']\n",
    "data = pd.get_dummies(data, columns=categorical_variables)"
   ]
  },
  {
   "cell_type": "code",
   "execution_count": 9,
   "id": "131cebbc",
   "metadata": {},
   "outputs": [],
   "source": [
    "#Splitting the dataset with random state\n",
    "data = data.drop(['instant', 'casual', 'registered'], axis=1) #removing extra coloumns\n",
    "X = data.drop(\"cnt\", axis=1) #exclude dependent variables\n",
    "y = data[\"cnt\"]\n",
    "X_train, X_test, y_train, y_test = train_test_split(X, y, test_size=0.2, random_state=42)"
   ]
  },
  {
   "cell_type": "code",
   "execution_count": 12,
   "id": "2889bb7e",
   "metadata": {},
   "outputs": [
    {
     "name": "stdout",
     "output_type": "stream",
     "text": [
      "Total samples: 17379\n",
      "Training samples: 13903 (80.00%)\n",
      "Test samples: 3476 (20.00%)\n"
     ]
    }
   ],
   "source": [
    "total_samples = len(data)\n",
    "train_samples = len(X_train)\n",
    "test_samples = len(X_test)\n",
    "\n",
    "train_percentage = (train_samples / total_samples) * 100\n",
    "test_percentage = (test_samples / total_samples) * 100\n",
    "\n",
    "print(f\"Total samples: {total_samples}\")\n",
    "print(f\"Training samples: {train_samples} ({train_percentage:.2f}%)\")\n",
    "print(f\"Test samples: {test_samples} ({test_percentage:.2f}%)\")"
   ]
  },
  {
   "cell_type": "markdown",
   "id": "a66a133e",
   "metadata": {},
   "source": [
    "## 3.2 Exploratory Data Analysis"
   ]
  },
  {
   "cell_type": "code",
   "execution_count": 13,
   "id": "b356524b",
   "metadata": {},
   "outputs": [
    {
     "name": "stdout",
     "output_type": "stream",
     "text": [
      "         workingday          temp         atemp           hum     windspeed  \\\n",
      "count  17379.000000  1.737900e+04  1.737900e+04  1.737900e+04  1.737900e+04   \n",
      "mean       0.682721  1.569989e-16 -1.831654e-16 -3.074562e-16  1.537281e-16   \n",
      "std        0.465431  1.000029e+00  1.000029e+00  1.000029e+00  1.000029e+00   \n",
      "min        0.000000 -2.477205e+00 -2.768625e+00 -3.251166e+00 -1.553889e+00   \n",
      "25%        0.000000 -8.153035e-01 -8.290895e-01 -7.631431e-01 -6.996886e-01   \n",
      "50%        1.000000  1.564696e-02  5.251758e-02  1.436398e-02  3.189880e-02   \n",
      "75%        1.000000  8.465975e-01  8.462549e-01  7.918711e-01  5.198962e-01   \n",
      "max        1.000000  2.612367e+00  3.050563e+00  1.932215e+00  5.399871e+00   \n",
      "\n",
      "                cnt      season_1      season_2      season_3      season_4  \\\n",
      "count  17379.000000  17379.000000  17379.000000  17379.000000  17379.000000   \n",
      "mean     189.463088      0.244088      0.253697      0.258703      0.243512   \n",
      "std      181.387599      0.429557      0.435139      0.437935      0.429214   \n",
      "min        1.000000      0.000000      0.000000      0.000000      0.000000   \n",
      "25%       40.000000      0.000000      0.000000      0.000000      0.000000   \n",
      "50%      142.000000      0.000000      0.000000      0.000000      0.000000   \n",
      "75%      281.000000      0.000000      1.000000      1.000000      0.000000   \n",
      "max      977.000000      1.000000      1.000000      1.000000      1.000000   \n",
      "\n",
      "       ...     weekday_1     weekday_2     weekday_3     weekday_4  \\\n",
      "count  ...  17379.000000  17379.000000  17379.000000  17379.000000   \n",
      "mean   ...      0.142643      0.141147      0.142413      0.142183   \n",
      "std    ...      0.349719      0.348184      0.349484      0.349248   \n",
      "min    ...      0.000000      0.000000      0.000000      0.000000   \n",
      "25%    ...      0.000000      0.000000      0.000000      0.000000   \n",
      "50%    ...      0.000000      0.000000      0.000000      0.000000   \n",
      "75%    ...      0.000000      0.000000      0.000000      0.000000   \n",
      "max    ...      1.000000      1.000000      1.000000      1.000000   \n",
      "\n",
      "          weekday_5     weekday_6  weathersit_1  weathersit_2  weathersit_3  \\\n",
      "count  17379.000000  17379.000000  17379.000000  17379.000000  17379.000000   \n",
      "mean       0.143104      0.144542      0.656712      0.261465      0.081650   \n",
      "std        0.350189      0.351649      0.474820      0.439445      0.273839   \n",
      "min        0.000000      0.000000      0.000000      0.000000      0.000000   \n",
      "25%        0.000000      0.000000      0.000000      0.000000      0.000000   \n",
      "50%        0.000000      0.000000      1.000000      0.000000      0.000000   \n",
      "75%        0.000000      0.000000      1.000000      1.000000      0.000000   \n",
      "max        1.000000      1.000000      1.000000      1.000000      1.000000   \n",
      "\n",
      "       weathersit_4  \n",
      "count  17379.000000  \n",
      "mean       0.000173  \n",
      "std        0.013138  \n",
      "min        0.000000  \n",
      "25%        0.000000  \n",
      "50%        0.000000  \n",
      "75%        0.000000  \n",
      "max        1.000000  \n",
      "\n",
      "[8 rows x 61 columns]\n"
     ]
    }
   ],
   "source": [
    "print(data.describe())"
   ]
  },
  {
   "cell_type": "code",
   "execution_count": 21,
   "id": "15581179",
   "metadata": {},
   "outputs": [
    {
     "data": {
      "image/png": "[encoded data removed]",
      "text/plain": [
       "<Figure size 1200x1000 with 2 Axes>"
      ]
     },
     "metadata": {},
     "output_type": "display_data"
    }
   ],
   "source": [
    "#Numerical variables and their co-relation matrix\n",
    "numeric_data = data.select_dtypes(include=['int64', 'float64'])\n",
    "correlation_matrix = numeric_data.corr()\n",
    "plt.figure(figsize=(12, 10))\n",
    "sns.heatmap(data=correlation_matrix, annot=True, cmap='Blues')\n",
    "plt.title(\"Correlation Matrix\")\n",
    "plt.show()"
   ]
  },
  {
   "cell_type": "markdown",
   "id": "c0ab495d",
   "metadata": {},
   "source": [
    "### Interpretation:\n",
    "Correlations: Various variables such as temperature, perceived temperature, humidity, time of day, month, and weather conditions show some correlation with bike rental numbers. These variables in combination influence the demand for bike rentals, contributing to its variance."
   ]
  },
  {
   "cell_type": "code",
   "execution_count": 17,
   "id": "68896502",
   "metadata": {},
   "outputs": [
    {
     "data": {
      "image/png": "[encoded data removed]",
      "text/plain": [
       "<Figure size 800x600 with 1 Axes>"
      ]
     },
     "metadata": {},
     "output_type": "display_data"
    }
   ],
   "source": [
    "#Distribution of Depdendent variable\n",
    "plt.figure(figsize=(8, 6))\n",
    "sns.histplot(data=data, x='cnt', kde=True)\n",
    "plt.title(\"Distribution of Dependent Variable\")\n",
    "plt.xlabel(\"Rental Bike Demand\")\n",
    "plt.ylabel(\"Count\")\n",
    "plt.show()"
   ]
  },
  {
   "cell_type": "code",
   "execution_count": 31,
   "id": "3d0d2ec6",
   "metadata": {},
   "outputs": [
    {
     "data": {
      "image/png": "[encoded data removed]",
      "text/plain": [
       "<Figure size 600x400 with 1 Axes>"
      ]
     },
     "metadata": {},
     "output_type": "display_data"
    },
    {
     "data": {
      "image/png": "[encoded data removed]",
      "text/plain": [
       "<Figure size 600x400 with 1 Axes>"
      ]
     },
     "metadata": {},
     "output_type": "display_data"
    },
    {
     "data": {
      "image/png": "[encoded data removed]",
      "text/plain": [
       "<Figure size 600x400 with 1 Axes>"
      ]
     },
     "metadata": {},
     "output_type": "display_data"
    }
   ],
   "source": [
    "#Count distribution of categorical independent variables\n",
    "#Independent categorical variables= ['season', 'yr', 'mnth', 'hr', 'holiday', 'weekday', 'weathersit']\n",
    "\n",
    "data = pd.read_csv(r\"C:\\Users\\User15\\OneDrive\\Desktop\\Data Analysis\\bike.csv\")\n",
    "data = data.drop(['instant', 'casual', 'registered'], axis=1)\n",
    "plt.figure(figsize=(6, 4))\n",
    "#sns.color_palette(\"mako\", as_cmap=True)\n",
    "sns.countplot(data=data, x='season', palette=\"mako\")\n",
    "plt.title(\"Distribution of Seasons\")\n",
    "plt.xlabel(\"Season\")\n",
    "plt.ylabel(\"Count\")\n",
    "plt.show()\n",
    "\n",
    "plt.figure(figsize=(6, 4))\n",
    "#sns.color_palette(\"mako\", as_cmap=True)\n",
    "sns.countplot(data=data, x='mnth', palette=\"mako\")\n",
    "plt.title(\"Distribution of Months\")\n",
    "plt.xlabel(\"Month\")\n",
    "plt.ylabel(\"Count\")\n",
    "plt.show()\n",
    "\n",
    "plt.figure(figsize=(6, 4))\n",
    "#sns.color_palette(\"mako\", as_cmap=True)\n",
    "sns.countplot(data=data, x='weathersit', palette=\"mako\")\n",
    "plt.title(\"Distribution of Weather\")\n",
    "plt.xlabel(\"Weather\")\n",
    "plt.ylabel(\"Count\")\n",
    "plt.show()"
   ]
  },
  {
   "cell_type": "markdown",
   "id": "9edb2192",
   "metadata": {},
   "source": [
    "### Interpretation:\n",
    "Seasonal Trends: There is a noticeable difference in the number of bike rentals across seasons. Summer and fall see a significant increase in rentals compared to the numbers during spring and winter.\n",
    "\n",
    "Monthly Trends: Throughout the year, bike rental demand varies, peaking in the summer months and reducing during the winter.\n",
    "\n",
    "Weather Impact: Weather conditions play an important role in bike rental demand. Clear or slightly cloudy days encourage more rentals, whereas misty or cloudy conditions see fewer riders. The lowest rental counts occurs during adverse weather such as light snow, heavy rain, ice pellets, thunderstorms, snow, or fog."
   ]
  },
  {
   "cell_type": "markdown",
   "id": "cb2129fc",
   "metadata": {},
   "source": [
    "## 3.3 Feature Selection"
   ]
  },
  {
   "cell_type": "markdown",
   "id": "b42297a3",
   "metadata": {},
   "source": [
    "**Temporal Patterns:** The features such as season, month, and hour were chosen to capture the temporal variations in bike rental demand. These periods shows different usage patterns influenced by weather, holidays, and commuting habits.\n",
    "\n",
    "**Annual Trends:** By including the year variable, we can identify overall trends or changes in bike rental demand over the dataset span from 2011 to 2012.\n",
    "\n",
    "**Day Type Variations:** The variables for holidays, weekdays, and working days are included to account for differences in bike rental demand related to daily routines, leisure activities, and commuting patterns.\n",
    "\n",
    "**Weather Conditions:** The weather situation variable offers insight into various weather conditions that significantly impact outdoor activities ecspecially biking. This feature helps us evaluate how different weather scenarios influence bike rental demand.\n",
    "\n",
    "**Weather-Related Factors:** Temperature, perceived temperature, humidity, and windspeed were selected for their direct impact on people's comfort and perception of weather. These variables affect individuals' decisions to use rental bikes, allowing us to capture the influence of weather on bike rental demand."
   ]
  },
  {
   "cell_type": "markdown",
   "id": "2a5e4a64",
   "metadata": {},
   "source": [
    "## 3.4 Models and their Comparisions"
   ]
  },
  {
   "cell_type": "code",
   "execution_count": 36,
   "id": "65c2e10e",
   "metadata": {},
   "outputs": [
    {
     "data": {
      "text/html": [
       "<div>\n",
       "<style scoped>\n",
       "    .dataframe tbody tr th:only-of-type {\n",
       "        vertical-align: middle;\n",
       "    }\n",
       "\n",
       "    .dataframe tbody tr th {\n",
       "        vertical-align: top;\n",
       "    }\n",
       "\n",
       "    .dataframe thead th {\n",
       "        text-align: right;\n",
       "    }\n",
       "</style>\n",
       "<table border=\"1\" class=\"dataframe\">\n",
       "  <thead>\n",
       "    <tr style=\"text-align: right;\">\n",
       "      <th></th>\n",
       "      <th>dteday</th>\n",
       "      <th>season</th>\n",
       "      <th>yr</th>\n",
       "      <th>mnth</th>\n",
       "      <th>hr</th>\n",
       "      <th>holiday</th>\n",
       "      <th>weekday</th>\n",
       "      <th>workingday</th>\n",
       "      <th>weathersit</th>\n",
       "      <th>temp</th>\n",
       "      <th>atemp</th>\n",
       "      <th>hum</th>\n",
       "      <th>windspeed</th>\n",
       "      <th>cnt</th>\n",
       "    </tr>\n",
       "  </thead>\n",
       "  <tbody>\n",
       "    <tr>\n",
       "      <th>0</th>\n",
       "      <td>2011-01-01</td>\n",
       "      <td>1</td>\n",
       "      <td>0</td>\n",
       "      <td>1</td>\n",
       "      <td>0</td>\n",
       "      <td>0</td>\n",
       "      <td>6</td>\n",
       "      <td>0</td>\n",
       "      <td>1</td>\n",
       "      <td>0.24</td>\n",
       "      <td>0.2879</td>\n",
       "      <td>0.81</td>\n",
       "      <td>0.0000</td>\n",
       "      <td>16</td>\n",
       "    </tr>\n",
       "    <tr>\n",
       "      <th>1</th>\n",
       "      <td>2011-01-01</td>\n",
       "      <td>1</td>\n",
       "      <td>0</td>\n",
       "      <td>1</td>\n",
       "      <td>1</td>\n",
       "      <td>0</td>\n",
       "      <td>6</td>\n",
       "      <td>0</td>\n",
       "      <td>1</td>\n",
       "      <td>0.22</td>\n",
       "      <td>0.2727</td>\n",
       "      <td>0.80</td>\n",
       "      <td>0.0000</td>\n",
       "      <td>40</td>\n",
       "    </tr>\n",
       "    <tr>\n",
       "      <th>2</th>\n",
       "      <td>2011-01-01</td>\n",
       "      <td>1</td>\n",
       "      <td>0</td>\n",
       "      <td>1</td>\n",
       "      <td>2</td>\n",
       "      <td>0</td>\n",
       "      <td>6</td>\n",
       "      <td>0</td>\n",
       "      <td>1</td>\n",
       "      <td>0.22</td>\n",
       "      <td>0.2727</td>\n",
       "      <td>0.80</td>\n",
       "      <td>0.0000</td>\n",
       "      <td>32</td>\n",
       "    </tr>\n",
       "    <tr>\n",
       "      <th>3</th>\n",
       "      <td>2011-01-01</td>\n",
       "      <td>1</td>\n",
       "      <td>0</td>\n",
       "      <td>1</td>\n",
       "      <td>3</td>\n",
       "      <td>0</td>\n",
       "      <td>6</td>\n",
       "      <td>0</td>\n",
       "      <td>1</td>\n",
       "      <td>0.24</td>\n",
       "      <td>0.2879</td>\n",
       "      <td>0.75</td>\n",
       "      <td>0.0000</td>\n",
       "      <td>13</td>\n",
       "    </tr>\n",
       "    <tr>\n",
       "      <th>4</th>\n",
       "      <td>2011-01-01</td>\n",
       "      <td>1</td>\n",
       "      <td>0</td>\n",
       "      <td>1</td>\n",
       "      <td>4</td>\n",
       "      <td>0</td>\n",
       "      <td>6</td>\n",
       "      <td>0</td>\n",
       "      <td>1</td>\n",
       "      <td>0.24</td>\n",
       "      <td>0.2879</td>\n",
       "      <td>0.75</td>\n",
       "      <td>0.0000</td>\n",
       "      <td>1</td>\n",
       "    </tr>\n",
       "    <tr>\n",
       "      <th>...</th>\n",
       "      <td>...</td>\n",
       "      <td>...</td>\n",
       "      <td>...</td>\n",
       "      <td>...</td>\n",
       "      <td>...</td>\n",
       "      <td>...</td>\n",
       "      <td>...</td>\n",
       "      <td>...</td>\n",
       "      <td>...</td>\n",
       "      <td>...</td>\n",
       "      <td>...</td>\n",
       "      <td>...</td>\n",
       "      <td>...</td>\n",
       "      <td>...</td>\n",
       "    </tr>\n",
       "    <tr>\n",
       "      <th>17374</th>\n",
       "      <td>2012-12-31</td>\n",
       "      <td>1</td>\n",
       "      <td>1</td>\n",
       "      <td>12</td>\n",
       "      <td>19</td>\n",
       "      <td>0</td>\n",
       "      <td>1</td>\n",
       "      <td>1</td>\n",
       "      <td>2</td>\n",
       "      <td>0.26</td>\n",
       "      <td>0.2576</td>\n",
       "      <td>0.60</td>\n",
       "      <td>0.1642</td>\n",
       "      <td>119</td>\n",
       "    </tr>\n",
       "    <tr>\n",
       "      <th>17375</th>\n",
       "      <td>2012-12-31</td>\n",
       "      <td>1</td>\n",
       "      <td>1</td>\n",
       "      <td>12</td>\n",
       "      <td>20</td>\n",
       "      <td>0</td>\n",
       "      <td>1</td>\n",
       "      <td>1</td>\n",
       "      <td>2</td>\n",
       "      <td>0.26</td>\n",
       "      <td>0.2576</td>\n",
       "      <td>0.60</td>\n",
       "      <td>0.1642</td>\n",
       "      <td>89</td>\n",
       "    </tr>\n",
       "    <tr>\n",
       "      <th>17376</th>\n",
       "      <td>2012-12-31</td>\n",
       "      <td>1</td>\n",
       "      <td>1</td>\n",
       "      <td>12</td>\n",
       "      <td>21</td>\n",
       "      <td>0</td>\n",
       "      <td>1</td>\n",
       "      <td>1</td>\n",
       "      <td>1</td>\n",
       "      <td>0.26</td>\n",
       "      <td>0.2576</td>\n",
       "      <td>0.60</td>\n",
       "      <td>0.1642</td>\n",
       "      <td>90</td>\n",
       "    </tr>\n",
       "    <tr>\n",
       "      <th>17377</th>\n",
       "      <td>2012-12-31</td>\n",
       "      <td>1</td>\n",
       "      <td>1</td>\n",
       "      <td>12</td>\n",
       "      <td>22</td>\n",
       "      <td>0</td>\n",
       "      <td>1</td>\n",
       "      <td>1</td>\n",
       "      <td>1</td>\n",
       "      <td>0.26</td>\n",
       "      <td>0.2727</td>\n",
       "      <td>0.56</td>\n",
       "      <td>0.1343</td>\n",
       "      <td>61</td>\n",
       "    </tr>\n",
       "    <tr>\n",
       "      <th>17378</th>\n",
       "      <td>2012-12-31</td>\n",
       "      <td>1</td>\n",
       "      <td>1</td>\n",
       "      <td>12</td>\n",
       "      <td>23</td>\n",
       "      <td>0</td>\n",
       "      <td>1</td>\n",
       "      <td>1</td>\n",
       "      <td>1</td>\n",
       "      <td>0.26</td>\n",
       "      <td>0.2727</td>\n",
       "      <td>0.65</td>\n",
       "      <td>0.1343</td>\n",
       "      <td>49</td>\n",
       "    </tr>\n",
       "  </tbody>\n",
       "</table>\n",
       "<p>17379 rows × 14 columns</p>\n",
       "</div>"
      ],
      "text/plain": [
       "          dteday  season  yr  mnth  hr  holiday  weekday  workingday  \\\n",
       "0     2011-01-01       1   0     1   0        0        6           0   \n",
       "1     2011-01-01       1   0     1   1        0        6           0   \n",
       "2     2011-01-01       1   0     1   2        0        6           0   \n",
       "3     2011-01-01       1   0     1   3        0        6           0   \n",
       "4     2011-01-01       1   0     1   4        0        6           0   \n",
       "...          ...     ...  ..   ...  ..      ...      ...         ...   \n",
       "17374 2012-12-31       1   1    12  19        0        1           1   \n",
       "17375 2012-12-31       1   1    12  20        0        1           1   \n",
       "17376 2012-12-31       1   1    12  21        0        1           1   \n",
       "17377 2012-12-31       1   1    12  22        0        1           1   \n",
       "17378 2012-12-31       1   1    12  23        0        1           1   \n",
       "\n",
       "       weathersit  temp   atemp   hum  windspeed  cnt  \n",
       "0               1  0.24  0.2879  0.81     0.0000   16  \n",
       "1               1  0.22  0.2727  0.80     0.0000   40  \n",
       "2               1  0.22  0.2727  0.80     0.0000   32  \n",
       "3               1  0.24  0.2879  0.75     0.0000   13  \n",
       "4               1  0.24  0.2879  0.75     0.0000    1  \n",
       "...           ...   ...     ...   ...        ...  ...  \n",
       "17374           2  0.26  0.2576  0.60     0.1642  119  \n",
       "17375           2  0.26  0.2576  0.60     0.1642   89  \n",
       "17376           1  0.26  0.2576  0.60     0.1642   90  \n",
       "17377           1  0.26  0.2727  0.56     0.1343   61  \n",
       "17378           1  0.26  0.2727  0.65     0.1343   49  \n",
       "\n",
       "[17379 rows x 14 columns]"
      ]
     },
     "execution_count": 36,
     "metadata": {},
     "output_type": "execute_result"
    }
   ],
   "source": [
    "data = pd.read_csv(r\"C:\\Users\\User15\\OneDrive\\Desktop\\Data Analysis\\bike.csv\")\n",
    "data = data.drop(['instant', 'casual', 'registered'], axis=1)\n",
    "data['dteday'] = pd.to_datetime(data['dteday'])\n",
    "\n",
    "#Defining dependent and independent variables\n",
    "#independent = ['season', 'yr', 'mnth', 'hr', 'holiday', 'weekday', 'workingday', 'weathersit', 'temp', 'atemp', 'hum', 'windspeed']\n",
    "#dependent = 'cnt'\n",
    "#X = data[independent]\n",
    "#y = data[dependent]"
   ]
  },
  {
   "cell_type": "code",
   "execution_count": 42,
   "id": "6e405baa",
   "metadata": {},
   "outputs": [
    {
     "data": {
      "text/plain": [
       "array([449.3036328 , 162.2958197 ,   5.1551947 , ...,  87.51249671,\n",
       "       199.9989447 , 256.8114447 ])"
      ]
     },
     "execution_count": 42,
     "metadata": {},
     "output_type": "execute_result"
    }
   ],
   "source": [
    "#one-hot coding for categorical variabes\n",
    "#X = pd.get_dummies(X, columns=['season', 'mnth', 'hr', 'weekday', 'weathersit'], drop_first=True)\n",
    "\n",
    "X_train, X_test, y_train, y_test = train_test_split(X, y, test_size=0.2, random_state=42)\n",
    "\n",
    "#Model\n",
    "#Three models were selected: Linear regression, Gradient Boosting Regression and Random Foster Regression\n",
    "\n",
    "#Linear Regression\n",
    "Model_1 = LinearRegression()\n",
    "Model_1.fit(X_train, y_train)\n",
    "Pred_1 = Model_1.predict(X_test)\n",
    "Pred_1"
   ]
  },
  {
   "cell_type": "code",
   "execution_count": 38,
   "id": "92490642",
   "metadata": {},
   "outputs": [
    {
     "data": {
      "text/plain": [
       "array([418.72740917, 124.05843116,  25.56813421, ..., 131.33380619,\n",
       "       196.64020251, 228.273707  ])"
      ]
     },
     "execution_count": 38,
     "metadata": {},
     "output_type": "execute_result"
    }
   ],
   "source": [
    "#Gradient Boosting Regression\n",
    "Model_2 = GradientBoostingRegressor()\n",
    "Model_2.fit(X_train, y_train)\n",
    "Pred_2 = Model_2.predict(X_test)\n",
    "Pred_2"
   ]
  },
  {
   "cell_type": "code",
   "execution_count": 39,
   "id": "996d149e",
   "metadata": {},
   "outputs": [
    {
     "data": {
      "text/plain": [
       "array([406.86, 123.04,  14.71, ...,  85.55, 323.27, 196.87])"
      ]
     },
     "execution_count": 39,
     "metadata": {},
     "output_type": "execute_result"
    }
   ],
   "source": [
    "#Random Foster Regression\n",
    "Model_3 = RandomForestRegressor()\n",
    "Model_3.fit(X_train, y_train)\n",
    "Pred_3 = Model_3.predict(X_test)\n",
    "Pred_3"
   ]
  },
  {
   "cell_type": "code",
   "execution_count": 40,
   "id": "87a9df54",
   "metadata": {},
   "outputs": [
    {
     "name": "stdout",
     "output_type": "stream",
     "text": [
      "Linear Regression:\n",
      "MSE: 10090.449113953558\n",
      "\n",
      "Gradient Boosting Regression:\n",
      "MSE: 6235.500529033464\n",
      "\n",
      "Random Forest Regression:\n",
      "MSE: 2647.887010998306\n"
     ]
    }
   ],
   "source": [
    "#Comparions of three models: Model mean square error was calculated to compare the matric between models\n",
    "mse_model_1 = mean_squared_error(y_test, Pred_1)\n",
    "mse_model_2 = mean_squared_error(y_test, Pred_2)\n",
    "mse_model_3 = mean_squared_error(y_test, Pred_3)\n",
    "\n",
    "print(\"Linear Regression:\")\n",
    "print(\"MSE:\", mse_model_1)\n",
    "print()\n",
    "\n",
    "print(\"Gradient Boosting Regression:\")\n",
    "print(\"MSE:\", mse_model_2)\n",
    "print()\n",
    "\n",
    "print(\"Random Forest Regression:\")\n",
    "print(\"MSE:\", mse_model_3)"
   ]
  },
  {
   "cell_type": "markdown",
   "id": "bcd75641",
   "metadata": {},
   "source": [
    "### Interpretation:\n",
    "Out of the three models: Linear Regression, Random Forest Regression, and Gradient Boosting Regression, the Random Forest Regression model achieved the lowest Mean Square Error (MSE). This indicates that the Random Forest Regression model provided the most accurate predictions for rental bike demand. Consequently, it can be concluded that the Random Forest Regression model is the comparatively better-performing model for forecasting bike rental demand considering single matrice. Yet, all other relvant matrices can be involved and compared to predict the best fit model for the prediction."
   ]
  },
  {
   "cell_type": "markdown",
   "id": "92776769",
   "metadata": {},
   "source": [
    "## 3.5 Discussion\n",
    "\n",
    "The variables included in the models play a crucial role in the prediction accuracy. For the Random Forest Regression model, which achieved the lowest MSE, we can examine feature importance to determine the key factors influencing these predictions. \n",
    "\n",
    "Key factors impacting predictions include:\n",
    "\n",
    "- **Temperature (temp):** Higher temperatures lead to increased bike rentals.\n",
    "- **Hour of the day (hr):** Certain hours, such as rush hours or lunch breaks, experience higher demand.\n",
    "- **Season (season):** Demand varies by season, with spring and summer seeing higher usage.\n",
    "- **Day of the week (weekday):** Different demand patterns emerge on weekdays compared to weekends.\n",
    "- **Weather situation (weathersit):** Favorable weather conditions boost demand.\n",
    "\n",
    "Additional data that could enhance prediction performance:\n",
    "\n",
    "- **Bike availability:** Information on bike availability at various times or locations.\n",
    "- **Location-based factors:** Proximity to attractions, bike infrastructure, or population density.\n",
    "- **Public holidays:** Information on holidays or events affecting demand.\n",
    "- **Tourist data:** Insights on tourists and tourist events impacting demand."
   ]
  }
 ],
 "metadata": {
  "kernelspec": {
   "display_name": "Python 3 (ipykernel)",
   "language": "python",
   "name": "python3"
  },
  "language_info": {
   "codemirror_mode": {
    "name": "ipython",
    "version": 3
   },
   "file_extension": ".py",
   "mimetype": "text/x-python",
   "name": "python",
   "nbconvert_exporter": "python",
   "pygments_lexer": "ipython3",
   "version": "3.10.9"
  }
 },
 "nbformat": 4,
 "nbformat_minor": 5
}
