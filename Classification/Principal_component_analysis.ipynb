{
 "cells": [
  {
   "cell_type": "markdown",
   "id": "c965d87b",
   "metadata": {},
   "source": [
    "## Principal Component Analysis"
   ]
  },
  {
   "cell_type": "code",
   "execution_count": 1,
   "id": "529cb497",
   "metadata": {},
   "outputs": [],
   "source": [
    "import pandas as pd\n",
    "from sklearn.decomposition import PCA\n",
    "from sklearn.preprocessing import StandardScaler"
   ]
  },
  {
   "cell_type": "code",
   "execution_count": 4,
   "id": "ac353e51",
   "metadata": {},
   "outputs": [],
   "source": [
    "df = pd.read_csv(r'C:\\Users\\User15\\OneDrive\\Desktop\\Data Analysis\\mode_choice_pcasample.csv')\n",
    "\n",
    "\n",
    "independent_variables = df[['TrvlTime_number', 'Age', 'indiv_trvl_frequency', 'HHVeh', 'HHsize']]\n",
    "\n",
    "#Standardise the above independent variables\n",
    "scaler = StandardScaler()\n",
    "independent_vars_scaled = scaler.fit_transform(independent_variables)"
   ]
  },
  {
   "cell_type": "code",
   "execution_count": 11,
   "id": "28af0e6e",
   "metadata": {},
   "outputs": [],
   "source": [
    "#Perform PCA\n",
    "pca = PCA()\n",
    "principal_components = pca.fit_transform(independent_vars_scaled)\n",
    "\n",
    "individual_variance = pca.explained_variance_ratio_\n",
    "cumulative_variance = individual_variance.cumsum()"
   ]
  },
  {
   "cell_type": "code",
   "execution_count": 12,
   "id": "ff817491",
   "metadata": {},
   "outputs": [
    {
     "data": {
      "text/plain": [
       "array([0.34495514, 0.25335837, 0.19734488, 0.12772848, 0.07661313])"
      ]
     },
     "execution_count": 12,
     "metadata": {},
     "output_type": "execute_result"
    }
   ],
   "source": [
    "individual_variance"
   ]
  },
  {
   "cell_type": "code",
   "execution_count": 13,
   "id": "493e2bc7",
   "metadata": {},
   "outputs": [
    {
     "data": {
      "text/plain": [
       "array([0.34495514, 0.59831351, 0.79565839, 0.92338687, 1.        ])"
      ]
     },
     "execution_count": 13,
     "metadata": {},
     "output_type": "execute_result"
    }
   ],
   "source": [
    "cumulative_variance"
   ]
  },
  {
   "cell_type": "code",
   "execution_count": 19,
   "id": "163918cf",
   "metadata": {},
   "outputs": [
    {
     "data": {
      "text/plain": [
       "5"
      ]
     },
     "execution_count": 19,
     "metadata": {},
     "output_type": "execute_result"
    }
   ],
   "source": [
    "threshold = 0.95 #Keeping the threshold to identify the final components\n",
    "number_components = sum(cumulative_variance <= threshold) + 1\n",
    "number_components"
   ]
  },
  {
   "cell_type": "markdown",
   "id": "54f32f53",
   "metadata": {},
   "source": [
    "First 5 varibales which exlains the 92% of the variance."
   ]
  },
  {
   "cell_type": "code",
   "execution_count": 21,
   "id": "81f60b55",
   "metadata": {},
   "outputs": [
    {
     "name": "stdout",
     "output_type": "stream",
     "text": [
      "Variance explained by individual principal component:\n",
      "Principal Component 1: 0.3450\n",
      "Principal Component 2: 0.2534\n",
      "Principal Component 3: 0.1973\n",
      "Principal Component 4: 0.1277\n",
      "Principal Component 5: 0.0766\n",
      "\n",
      "Number of principal components selected that explain 92% of the variance: 5\n"
     ]
    }
   ],
   "source": [
    "print(\"Variance explained by individual principal component:\")\n",
    "for i, var in enumerate(individual_variance):\n",
    "    print(f\"Principal Component {i+1}: {var:.4f}\")\n",
    "\n",
    "print(f\"\\nNumber of principal components selected that explain 92% of the variance: {number_components}\")"
   ]
  },
  {
   "cell_type": "markdown",
   "id": "e9ea9548",
   "metadata": {},
   "source": [
    "### Interpretation:\n",
    "Principal Component Analysis (PCA) on a dataset above shows the code that standardizes the independent variables and  then applied PCA to identify the principal components that explains the most variance in the data set. It calculates the variance explained by each principal component and determined the cumulative variance explained if each of those varibales were included. Keeping a threshold of 95%, the code determines the number of principal components to finally retain. The results, including the variance explained by each component and the number of components nominated which explains the variance in the data."
   ]
  }
 ],
 "metadata": {
  "kernelspec": {
   "display_name": "Python 3 (ipykernel)",
   "language": "python",
   "name": "python3"
  },
  "language_info": {
   "codemirror_mode": {
    "name": "ipython",
    "version": 3
   },
   "file_extension": ".py",
   "mimetype": "text/x-python",
   "name": "python",
   "nbconvert_exporter": "python",
   "pygments_lexer": "ipython3",
   "version": "3.12.4"
  }
 },
 "nbformat": 4,
 "nbformat_minor": 5
}
